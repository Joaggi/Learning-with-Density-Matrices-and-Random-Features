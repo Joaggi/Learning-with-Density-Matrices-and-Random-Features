{
 "cells": [
  {
   "cell_type": "code",
   "execution_count": null,
   "metadata": {
    "collapsed": true
   },
   "outputs": [],
   "source": [
    "\n",
    "current_path = \"\"\n",
    "\n",
    "try:\n",
    "    import google.colab\n",
    "    IN_COLAB = True\n",
    "except:\n",
    "    IN_COLAB = False\n",
    "if IN_COLAB:\n",
    "    import os\n",
    "    os.system(\"pip3 install mlflow\")\n",
    "    from google.colab import drive\n",
    "    drive.mount('/content/drive')\n",
    "    os.chdir('/content/drive/MyDrive/Academico/doctorado_programacion/experiments/2021_01_learning_with_density_matrices')\n",
    "    import sys\n",
    "    sys.path.append('submodules/qmc/')\n",
    "    #sys.path.append('../../../../submodules/qmc/')\n",
    "    print(sys.path)\n",
    "else:\n",
    "    import sys\n",
    "    sys.path.append('submodules/qmc/')\n",
    "    sys.path.append('data/')\n",
    "    #sys.path.append('../../../../submodules/qmc/')\n",
    "    print(sys.path)\n",
    "    # %cd ../../print(os.getcwd())\n",
    "\n",
    "\n",
    "sys.path.append('scripts/')\n",
    "\n",
    "\n",
    "import qmc.tf.layers as layers\n",
    "import qmc.tf.models as models\n",
    "\n",
    "from sklearn.metrics import accuracy_score\n",
    "from sklearn.preprocessing import MinMaxScaler\n",
    "import tensorflow as tf\n",
    "\n",
    "import sklearn\n",
    "import numpy as np # linear algebra\n",
    "import pandas as pd # data processing, CSV file I/O (e.g. pd.read_csv)\n",
    "import keras\n",
    "from keras.wrappers.scikit_learn import KerasClassifier\n",
    "from sklearn.model_selection import RandomizedSearchCV, KFold\n",
    "\n",
    "from experiments import experiments\n",
    "\n",
    "from mlflow_create_experiment import mlflow_create_experiment\n"
   ]
  },
  {
   "cell_type": "code",
   "execution_count": null,
   "outputs": [],
   "source": [
    "setting = {\n",
    "    \"z_name_of_experiment\": 'learning-with-density-matrices',\n",
    "    \"z_run_name\": \"dmkdc_sgd\",\n",
    "    \"z_n_components\": 1000,\n",
    "    \"z_step\": \"train_val\",\n",
    "    \"z_batch_size\": 8,\n",
    "    \"z_learning_rate\": 1e-06,\n",
    "    \"z_decay\": 0.0,\n",
    "    \"z_initialize_with_rff\": True,\n",
    "    \"z_type_of_rff\": \"rff\",\n",
    "    \"z_fix_rff\": True,\n",
    "    \"z_train_epochs\": 100,\n",
    "    \"z_test_epochs\": 5000,\n",
    "    \"z_dataset\": \"usps\",\n",
    "    \"z_test_running_times\": 10,\n",
    "    \"z_random_search\": True,\n",
    "    \"z_random_search_iter\": 30,\n",
    "    \"z_random_search_random_state\": 20\n",
    "\n",
    "}\n",
    "\n",
    "#prod_settings = {\"z_gamma\" : [2**i for i in range(-20,20)], \"z_eig_components\": [0.0, 0.1, 0.5]}\n",
    "prod_settings = {\"z_gamma\" : [2**-6], \"z_eig_components\": [0.1]}\n",
    "\n",
    "params_int = [\"z_n_components\", \"z_batch_size\", \"z_train_epochs\", \"z_test_epochs\"]\n",
    "params_float = [\"z_gamma\", \"z_eig_components\", \"z_learning_rate\", \"z_decay\"]\n",
    "params_boolean = [\"z_initialize_with_rff\", \"z_fix_rff\"]\n",
    "\n",
    "mlflow = mlflow_create_experiment(setting[\"z_name_of_experiment\"])\n",
    "\n",
    "experiments(setting, prod_settings, params_int, params_float, mlflow)"
   ],
   "metadata": {
    "collapsed": false,
    "pycharm": {
     "name": "#%%\n"
    }
   }
  }
 ],
 "metadata": {
  "kernelspec": {
   "display_name": "Python 3",
   "language": "python",
   "name": "python3"
  },
  "language_info": {
   "codemirror_mode": {
    "name": "ipython",
    "version": 2
   },
   "file_extension": ".py",
   "mimetype": "text/x-python",
   "name": "python",
   "nbconvert_exporter": "python",
   "pygments_lexer": "ipython2",
   "version": "2.7.6"
  }
 },
 "nbformat": 4,
 "nbformat_minor": 0
}