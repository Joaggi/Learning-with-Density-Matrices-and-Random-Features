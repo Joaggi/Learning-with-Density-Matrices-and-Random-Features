{
 "cells": [
  {
   "cell_type": "markdown",
   "id": "831e051d",
   "metadata": {
    "id": "SGS_NkS5zxZX"
   },
   "source": [
    "Before running the next cell please add a shortcut to the shared folder at the root of your Google Drive"
   ]
  },
  {
   "cell_type": "code",
   "execution_count": null,
   "id": "520361fd",
   "metadata": {
    "collapsed": false,
    "jupyter": {
     "outputs_hidden": false
    },
    "pycharm": {
     "name": "#%%\n"
    }
   },
   "outputs": [],
   "source": [
    "%load_ext autoreload\n",
    "%autoreload 1"
   ]
  },
  {
   "cell_type": "code",
   "execution_count": null,
   "id": "adf00c87",
   "metadata": {
    "collapsed": false,
    "jupyter": {
     "outputs_hidden": false
    },
    "pycharm": {
     "name": "#%%\n"
    }
   },
   "outputs": [],
   "source": [
    "current_path = \"\"\n",
    "\n",
    "try:\n",
    "  import google.colab\n",
    "  IN_COLAB = True\n",
    "except:\n",
    "  IN_COLAB = False\n",
    "\n",
    "if IN_COLAB:\n",
    "    from google.colab import drive\n",
    "    drive.mount('/content/drive')\n",
    "    %cd /content/drive/MyDrive/Academico/doctorado_programacion/doctorado/experiments/2021_01_learning_with_density_matrices\n",
    "\n",
    "    import sys\n",
    "    sys.path.append('submodules/qmc/')\n",
    "    #sys.path.append('../../../../submodules/qmc/')\n",
    "    print(sys.path)\n",
    "else:\n",
    "    import sys\n",
    "    sys.path.append('submodules/qmc/')\n",
    "    sys.path.append('data/')\n",
    "    #sys.path.append('../../../../submodules/qmc/')\n",
    "    print(sys.path)\n",
    "    %cd ../../\n",
    "\n",
    "!pwd"
   ]
  },
  {
   "cell_type": "code",
   "execution_count": null,
   "id": "883be1ea",
   "metadata": {
    "collapsed": false,
    "jupyter": {
     "outputs_hidden": false
    },
    "pycharm": {
     "name": "#%%\n"
    }
   },
   "outputs": [],
   "source": [
    "import mlflow\n",
    "import mlflow.sklearn\n",
    "\n",
    "mlflow.set_tracking_uri(\"sqlite:///mlflow/tracking.db\")\n",
    "mlflow.set_registry_uri(\"sqlite:///mlflow/registry.db\")\n",
    "try:\n",
    "  mlflow.create_experiment('learining-with-density-matrices', \"mlflow/\")\n",
    "except:\n",
    "  print(\"Experiment already created\")\n",
    "mlflow.set_experiment(\"learining-with-density-matrices\")"
   ]
  },
  {
   "cell_type": "code",
   "execution_count": null,
   "id": "8373b682",
   "metadata": {
    "colab": {
     "base_uri": "https://localhost:8080/"
    },
    "executionInfo": {
     "elapsed": 15976,
     "status": "ok",
     "timestamp": 1613168987500,
     "user": {
      "displayName": "sisyphus midas",
      "photoUrl": "",
      "userId": "13431807809642753002"
     },
     "user_tz": 300
    },
    "id": "xN741Hz3S2Gw",
    "lines_to_next_cell": 2,
    "outputId": "591d1f6b-ab20-4021-aa06-3cfef2daf887"
   },
   "outputs": [],
   "source": [
    "import qmc.tf.layers as layers\n",
    "import qmc.tf.models as models\n"
   ]
  },
  {
   "cell_type": "code",
   "execution_count": null,
   "id": "f4780343",
   "metadata": {
    "id": "3gmovb6m0FFl"
   },
   "outputs": [],
   "source": [
    "from sklearn.metrics import accuracy_score\n",
    "from sklearn.preprocessing import MinMaxScaler\n",
    "import tensorflow as tf"
   ]
  },
  {
   "cell_type": "code",
   "execution_count": null,
   "id": "e8add972",
   "metadata": {
    "id": "ri9fmngn_GPA"
   },
   "outputs": [],
   "source": [
    "import sklearn\n",
    "import numpy as np # linear algebra\n",
    "import pandas as pd # data processing, CSV file I/O (e.g. pd.read_csv)\n",
    "import keras\n",
    "from keras.wrappers.scikit_learn import KerasClassifier\n",
    "from sklearn.model_selection import RandomizedSearchCV, KFold"
   ]
  },
  {
   "cell_type": "code",
   "execution_count": null,
   "id": "06a21d8e",
   "metadata": {
    "id": "DZbvtfnXQD9Y"
   },
   "outputs": [],
   "source": [
    "# from functions.keras_wrapper_qmc import KerasClassifier\n",
    "\n",
    "# from sklearn.model_selection import RandomizedSearchCV, KFold\n",
    "# from sklearn.metrics import make_scorer"
   ]
  },
  {
   "cell_type": "code",
   "execution_count": null,
   "id": "298cf92e",
   "metadata": {
    "collapsed": false,
    "jupyter": {
     "outputs_hidden": false
    },
    "pycharm": {
     "name": "#%%\n"
    }
   },
   "outputs": [],
   "source": [
    "sys.path.append('scripts/')"
   ]
  },
  {
   "cell_type": "code",
   "execution_count": null,
   "id": "c942b9b9",
   "metadata": {
    "id": "vbwEQAAITCkp"
   },
   "outputs": [],
   "source": [
    "from load_usps import load_usps"
   ]
  },
  {
   "cell_type": "code",
   "execution_count": null,
   "id": "63990d96",
   "metadata": {
    "collapsed": false,
    "jupyter": {
     "outputs_hidden": false
    },
    "pycharm": {
     "name": "#%%\n"
    }
   },
   "outputs": [],
   "source": [
    "print(sys.path)"
   ]
  },
  {
   "cell_type": "code",
   "execution_count": null,
   "id": "1428b2f6",
   "metadata": {
    "colab": {
     "base_uri": "https://localhost:8080/"
    },
    "executionInfo": {
     "elapsed": 456,
     "status": "ok",
     "timestamp": 1613169018839,
     "user": {
      "displayName": "sisyphus midas",
      "photoUrl": "",
      "userId": "13431807809642753002"
     },
     "user_tz": 300
    },
    "id": "FbvKAN7IyuGq",
    "outputId": "f47a6541-41fa-447a-9f93-9a4297d9d362"
   },
   "outputs": [],
   "source": [
    "X_train, y_train, X_test, y_test = load_usps(\"data/usps/usps.h5\")\n",
    "\n",
    "print(\"shape X_train : \", X_train.shape)\n",
    "print(\"shape y_train : \", y_train.shape)\n",
    "print(\"shape X_test : \", X_test.shape)\n",
    "print(\"shape y_test : \", y_test.shape)"
   ]
  },
  {
   "cell_type": "code",
   "execution_count": null,
   "id": "0800bf72",
   "metadata": {
    "id": "CCp5RUItvNfu"
   },
   "outputs": [],
   "source": [
    "\n",
    "from sklearn.model_selection import train_test_split\n",
    "X_train, X_val, y_train, y_val = train_test_split(X_train, y_train, test_size=0.2, random_state=42, stratify=y_train)"
   ]
  },
  {
   "cell_type": "code",
   "execution_count": null,
   "id": "0a7ebfa2",
   "metadata": {
    "id": "q5sHceZTvA4W"
   },
   "outputs": [],
   "source": [
    "from min_max_scaler import min_max_scaler\n",
    "X_train, X_val, X_test = min_max_scaler(X_train, X_val, X_test)"
   ]
  },
  {
   "cell_type": "code",
   "execution_count": null,
   "id": "48e860d1",
   "metadata": {
    "collapsed": false,
    "jupyter": {
     "outputs_hidden": false
    },
    "lines_to_next_cell": 2,
    "pycharm": {
     "name": "#%%\n"
    }
   },
   "outputs": [],
   "source": [
    "print(X_train.shape)\n",
    "print(y_train.shape)\n",
    "print(X_val.shape)\n",
    "print(y_val.shape)\n",
    "print(X_test.shape)\n",
    "print(y_test.shape)"
   ]
  },
  {
   "cell_type": "code",
   "execution_count": null,
   "id": "c107de74",
   "metadata": {
    "id": "sbBAEyWtvCQs",
    "lines_to_next_cell": 2
   },
   "outputs": [],
   "source": [
    "setting = {\n",
    "    \"n_components\": 1000,\n",
    "    \"c\": 2**1,\n",
    "    \"tol\": 1e-05\n",
    "}\n",
    "\n",
    "gammas = [2**i for i in range(-10,10)]"
   ]
  },
  {
   "cell_type": "code",
   "execution_count": null,
   "id": "2db815dd",
   "metadata": {
    "colab": {
     "base_uri": "https://localhost:8080/"
    },
    "executionInfo": {
     "elapsed": 3953,
     "status": "ok",
     "timestamp": 1613169028113,
     "user": {
      "displayName": "sisyphus midas",
      "photoUrl": "",
      "userId": "13431807809642753002"
     },
     "user_tz": 300
    },
    "id": "xC2A4DDR2ke2",
    "outputId": "bc4e23b0-e98a-4940-863c-edaf52d251bf"
   },
   "outputs": [],
   "source": [
    "from rbf_sampler import rbf_sampler\n",
    "X_train_features, X_val_features, X_test_features = rbf_sampler( X_train, X_val, X_test, gamma=2**-5, n_components = 1000, random_state=42)"
   ]
  },
  {
   "cell_type": "code",
   "execution_count": null,
   "id": "b50ee746",
   "metadata": {
    "collapsed": false,
    "jupyter": {
     "outputs_hidden": false
    },
    "lines_to_next_cell": 2,
    "pycharm": {
     "name": "#%%\n"
    }
   },
   "outputs": [],
   "source": [
    "from linear_svc import linear_svc\n",
    "linear_svc(X_train_features, y_train, X_val, y_val, C=2**1, tol=1e-05)"
   ]
  },
  {
   "cell_type": "code",
   "execution_count": null,
   "id": "29860833",
   "metadata": {
    "id": "WJhIK0PPs0ZC"
   },
   "outputs": [],
   "source": [
    "input_dim = X_train.shape[1]\n",
    "component_dim = 1000\n",
    "num_classes = np.unique(y_train).shape[0]\n",
    "gamma = 2**-5\n",
    "random_state=0\n",
    "num_eig=0\n",
    "batch_size=8\n",
    "epochs = 10"
   ]
  },
  {
   "cell_type": "code",
   "execution_count": null,
   "id": "d11badf4",
   "metadata": {
    "id": "8lkO0ZHm7mGQ"
   },
   "outputs": [],
   "source": [
    "def create_model(input_dim, num_classes, component_dim=100, gamma=1, lr=0.01, decay=0.,\n",
    "                  random_state=None, eig_percentage=0, initialize_with_rff=False,\n",
    "                  type_of_rff=\"rff\", fix_rff=False):\n",
    "    '''This is a model generating function so that we can search over neural net\n",
    "    parameters and architecture'''\n",
    "\n",
    "    num_eig = round(eig_percentage * component_dim)\n",
    "\n",
    "    opt = keras.optimizers.Adam(lr=lr, beta_1=0.9, beta_2=0.999, decay=decay)\n",
    "\n",
    "    if type_of_rff == 'rff':\n",
    "        fm_x = layers.QFeatureMapRFF(input_dim, dim=component_dim, gamma=gamma, random_state=random_state)\n",
    "    else:\n",
    "        fm_x = layers.QFeatureMapORF(input_dim, dim=component_dim, gamma=gamma, random_state=random_state)\n",
    "\n",
    "    if initialize_with_rff:\n",
    "        qmkdc = models.QMKDClassifier(fm_x=fm_x, dim_x=component_dim, num_classes=num_classes)\n",
    "        qmkdc.compile()\n",
    "        qmkdc.fit(X_train, y_train, epochs=1, batch_size=batch_size, verbose=0)\n",
    "\n",
    "    qmkdc1 = models.QMKDClassifierSGD(input_dim=input_dim, dim_x=component_dim, num_eig=num_eig,\n",
    "                                      num_classes=num_classes, gamma=gamma, random_state=random_state, fm_x=fm_x)\n",
    "\n",
    "    if fix_rff:\n",
    "        qmkdc1.layers[0].trainable = False\n",
    "\n",
    "    qmkdc1.compile(loss=tf.keras.losses.CategoricalCrossentropy(), optimizer=opt, metrics=['accuracy'])\n",
    "\n",
    "    if initialize_with_rff:\n",
    "        qmkdc1.set_rhos(qmkdc.get_rhos())\n",
    "\n",
    "    # qmkdc1.fit(X_train, y_train_bin, epochs=epochs, batch_size=batch_size)\n",
    "\n",
    "    return qmkdc1"
   ]
  },
  {
   "cell_type": "code",
   "execution_count": null,
   "id": "56b17fae",
   "metadata": {
    "id": "6aAqByT7EqwD"
   },
   "outputs": [],
   "source": [
    "%load_ext tensorboard\n",
    "%tensorboard --logdir \"/gdrive/My Drive/logs/\""
   ]
  },
  {
   "cell_type": "code",
   "execution_count": null,
   "id": "3ef6b8c0",
   "metadata": {
    "colab": {
     "base_uri": "https://localhost:8080/"
    },
    "id": "iA1l5hucdWnb",
    "outputId": "8b42e155-031c-409c-e49b-51fe271db0b4"
   },
   "outputs": [],
   "source": [
    "# Creación del modelo sin random search. Sirve para verificar que el algoritmo este entrenando bien.\n",
    "import datetime, os\n",
    "logdir = os.path.join(\"/gdrive/My Drive/logs\", \"usps-\" + datetime.datetime.now().strftime(\"%Y%m%d-%H%M%S\"))\n",
    "tensorboard_callback = tf.keras.callbacks.TensorBoard(logdir, histogram_freq=1)\n",
    "\n",
    "model_mnist = create_model(input_dim, num_classes, component_dim=1000, gamma=2**-6, lr=1e-06, decay=0.,\n",
    "                  random_state=None, eig_percentage=0.1, initialize_with_rff=True,\n",
    "                  type_of_rff=\"rff\", fix_rff=False)\n",
    "\n",
    "y_train_bin = tf.reshape(tf.keras.backend.one_hot(y_train, num_classes), (-1, num_classes))\n",
    "y_test_bin = tf.reshape(tf.keras.backend.one_hot(y_test, num_classes), (-1, num_classes))\n",
    "model_mnist.fit(X_train, y_train_bin.numpy(), epochs=12000, batch_size=32, validation_data=(X_test, y_test_bin.numpy()), \n",
    "            callbacks=[tensorboard_callback])"
   ]
  },
  {
   "cell_type": "code",
   "execution_count": null,
   "id": "933f2c44",
   "metadata": {
    "colab": {
     "base_uri": "https://localhost:8080/"
    },
    "executionInfo": {
     "elapsed": 1703,
     "status": "ok",
     "timestamp": 1606083504277,
     "user": {
      "displayName": "Joseph Alejandro Gallego Mejia",
      "photoUrl": "https://lh3.googleusercontent.com/a-/AOh14GiRHNpVI1SA3eB-WTWWN6LPuOQg9GlITBmVJTaXloc=s64",
      "userId": "11469130437763358793"
     },
     "user_tz": 300
    },
    "id": "CO-lHE9-mK9i",
    "outputId": "7d193189-b405-4281-ac7d-2f602e068146"
   },
   "outputs": [],
   "source": [
    "y_test_bin = tf.reshape(tf.keras.backend.one_hot(y_test, num_classes), (-1, num_classes))\n",
    "out = model_mnist.predict(X_test)\n",
    "accuracy_score(y_test, out.argmax(axis=1))"
   ]
  },
  {
   "cell_type": "code",
   "execution_count": null,
   "id": "71d82c6c",
   "metadata": {
    "id": "el95YvDq7xm_"
   },
   "outputs": [],
   "source": [
    "model = KerasClassifier(build_fn=create_model, epochs=50, batch_size=16, verbose=1)"
   ]
  },
  {
   "cell_type": "code",
   "execution_count": null,
   "id": "eed5db70",
   "metadata": {
    "colab": {
     "base_uri": "https://localhost:8080/"
    },
    "executionInfo": {
     "elapsed": 297,
     "status": "ok",
     "timestamp": 1606083365928,
     "user": {
      "displayName": "Joseph Alejandro Gallego Mejia",
      "photoUrl": "https://lh3.googleusercontent.com/a-/AOh14GiRHNpVI1SA3eB-WTWWN6LPuOQg9GlITBmVJTaXloc=s64",
      "userId": "11469130437763358793"
     },
     "user_tz": 300
    },
    "id": "4UPoG_17pLhW",
    "outputId": "8c09a56b-82ab-49c5-f5c5-c25c8c44360d"
   },
   "outputs": [],
   "source": [
    "num_classes"
   ]
  },
  {
   "cell_type": "code",
   "execution_count": null,
   "id": "d2acdd17",
   "metadata": {
    "colab": {
     "base_uri": "https://localhost:8080/"
    },
    "executionInfo": {
     "elapsed": 454,
     "status": "ok",
     "timestamp": 1606083366868,
     "user": {
      "displayName": "Joseph Alejandro Gallego Mejia",
      "photoUrl": "https://lh3.googleusercontent.com/a-/AOh14GiRHNpVI1SA3eB-WTWWN6LPuOQg9GlITBmVJTaXloc=s64",
      "userId": "11469130437763358793"
     },
     "user_tz": 300
    },
    "id": "JOwKE_ARyc9Q",
    "outputId": "b933e3b7-3111-46f5-dae8-839cd746baf6"
   },
   "outputs": [],
   "source": [
    "2**30"
   ]
  },
  {
   "cell_type": "code",
   "execution_count": null,
   "id": "7fdd7757",
   "metadata": {
    "id": "6YtfnhVn70Oz"
   },
   "outputs": [],
   "source": [
    "# component dimension\n",
    "from scipy.stats import randint\n",
    "#components_dimensions = randint(20,1500)\n",
    "components_dimensions = [1000]\n",
    "\n",
    "# gamma\n",
    "#gammas = [2 ** i for i in range(-25, 25)]\n",
    "gammas = [2 ** i for i in range(4, 6)]\n",
    "\n",
    "# number of eigen values\n",
    "eig_values = [1 / 10, 25 / 100, 50 / 100, 1]\n",
    "\n",
    "# initialize with rff\n",
    "#initialize_with_rff = [True, False]\n",
    "initialize_with_rff = [True]\n",
    "\n",
    "# type_of_rff_components\n",
    "type_of_rff = ['rff', 'orf']\n",
    "\n",
    "# fix_rff\n",
    "fix_rff = [True]\n",
    "\n",
    "# learning algorithm parameters\n",
    "lr = [1e-2, 1e-3, 1e-4, 1e-5, 1e-6, 1e-7]\n",
    "decay = [1e-6, 1e-9, 0]\n",
    "\n",
    "# dictionary summary\n",
    "param_grid = dict(input_dim=[input_dim], num_classes=[num_classes], component_dim=components_dimensions, gamma=gammas,\n",
    "                  lr=lr, decay=decay,\n",
    "                  random_state=[None], eig_percentage=eig_values, initialize_with_rff=initialize_with_rff,\n",
    "                  type_of_rff=type_of_rff, fix_rff=fix_rff\n",
    "                  )"
   ]
  },
  {
   "cell_type": "code",
   "execution_count": null,
   "id": "a544387d",
   "metadata": {
    "id": "qtgVrnlQ8HM_"
   },
   "outputs": [],
   "source": [
    "grid = RandomizedSearchCV(estimator=model, cv=KFold(3), param_distributions=param_grid,\n",
    "                              verbose=20, n_iter=1, n_jobs=1)"
   ]
  },
  {
   "cell_type": "code",
   "execution_count": null,
   "id": "db34fff8",
   "metadata": {
    "id": "7bcv-TfgL3tU"
   },
   "outputs": [],
   "source": [
    "# grid_result = grid.fit(X_train, y_train)\n",
    "y_train_bin = tf.reshape(tf.keras.backend.one_hot(y_train, num_classes), (-1, num_classes)).numpy()"
   ]
  },
  {
   "cell_type": "code",
   "execution_count": null,
   "id": "a7699c3c",
   "metadata": {
    "id": "UI63v1ne8VFi"
   },
   "outputs": [],
   "source": [
    "cv_results_df = None\n",
    "\n",
    "for i in range(25):\n",
    "  grid_result = grid.fit(X_train, y_train_bin)\n",
    "\n",
    "  if cv_results_df is None:\n",
    "    cv_results_df = pd.DataFrame(grid_result.cv_results_)\n",
    "  else:\n",
    "    cv_results_df = pd.concat([cv_results_df, pd.DataFrame(grid_result.cv_results_)])\n",
    "\n",
    "  cv_results_df.to_csv('qmkdc letters random search.csv')"
   ]
  }
 ],
 "metadata": {
  "jupytext": {
   "encoding": "# -*- coding: utf-8 -*-",
   "formats": "ipynb,py:light"
  },
  "kernelspec": {
   "display_name": "Python 3 (ipykernel)",
   "language": "python",
   "name": "python3"
  },
  "language_info": {
   "codemirror_mode": {
    "name": "ipython",
    "version": 3
   },
   "file_extension": ".py",
   "mimetype": "text/x-python",
   "name": "python",
   "nbconvert_exporter": "python",
   "pygments_lexer": "ipython3",
   "version": "3.9.7"
  }
 },
 "nbformat": 4,
 "nbformat_minor": 5
}
