{
 "nbformat": 4,
 "nbformat_minor": 0,
 "metadata": {
  "orig_nbformat": 2,
  "kernelspec": {
   "name": "python3",
   "language": "python",
   "display_name": "Python 3 (ipykernel)"
  },
  "colab": {
   "name": "qmkdc_usps.ipynb",
   "provenance": [
    {
     "file_id": "1mk2KPQ3HZzIchRWGA30UZCQZyHEjHgki",
     "timestamp": 1606085825334
    },
    {
     "file_id": "10cpCvIa9Y-4jdts8sHWyFjuyrlUOEXtv",
     "timestamp": 1606061768808
    }
   ],
   "collapsed_sections": []
  },
  "accelerator": "GPU"
 },
 "cells": [
  {
   "cell_type": "markdown",
   "metadata": {
    "id": "SGS_NkS5zxZX"
   },
   "source": [
    "Before running the next cell please add a shortcut to the shared folder at the root of your Google Drive"
   ]
  },
  {
   "cell_type": "code",
   "execution_count": 1,
   "outputs": [],
   "source": [
    "%load_ext autoreload\n",
    "%autoreload 1"
   ],
   "metadata": {
    "collapsed": false,
    "pycharm": {
     "name": "#%%\n"
    }
   }
  },
  {
   "cell_type": "code",
   "execution_count": 2,
   "outputs": [
    {
     "name": "stdout",
     "output_type": "stream",
     "text": [
      "['/media/joag/Proyectos/Doctorado/2021_01_learning_with_density_matrices/notebooks/usps', '/media/joag/Proyectos/Doctorado/2021_01_learning_with_density_matrices', '/usr/lib/python39.zip', '/usr/lib/python3.9', '/usr/lib/python3.9/lib-dynload', '', '/home/joag/.cache/pypoetry/virtualenvs/2021-01-learning-with-density-matrices-_ih_4jaw-py3.9/lib/python3.9/site-packages', '/home/joag/.cache/pypoetry/virtualenvs/2021-01-learning-with-density-matrices-_ih_4jaw-py3.9/lib/python3.9/site-packages/IPython/extensions', '/home/joag/.ipython', 'submodules/qmc/', 'data/']\n",
      "/media/joag/Proyectos/Doctorado/2021_01_learning_with_density_matrices\n",
      "/media/joag/Proyectos/Doctorado/2021_01_learning_with_density_matrices\r\n"
     ]
    }
   ],
   "source": [
    "current_path = \"\"\n",
    "\n",
    "try:\n",
    "  import google.colab\n",
    "  IN_COLAB = True\n",
    "except:\n",
    "  IN_COLAB = False\n",
    "\n",
    "if IN_COLAB:\n",
    "    from google.colab import drive\n",
    "    drive.mount('/content/drive')\n",
    "    %cd /content/drive/MyDrive/Academico/doctorado_programacion/doctorado/experiments/2021_01_learning_with_density_matrices\n",
    "\n",
    "    import sys\n",
    "    sys.path.append('submodules/qmc/')\n",
    "    #sys.path.append('../../../../submodules/qmc/')\n",
    "    print(sys.path)\n",
    "    /doctorado_programacion/\n",
    "else:\n",
    "    import sys\n",
    "    sys.path.append('submodules/qmc/')\n",
    "    sys.path.append('data/')\n",
    "    #sys.path.append('../../../../submodules/qmc/')\n",
    "    print(sys.path)\n",
    "    %cd ../../\n",
    "\n",
    "!pwd\n"
   ],
   "metadata": {
    "collapsed": false,
    "pycharm": {
     "name": "#%%\n"
    }
   }
  },
  {
   "cell_type": "code",
   "metadata": {
    "colab": {
     "base_uri": "https://localhost:8080/"
    },
    "id": "xN741Hz3S2Gw",
    "executionInfo": {
     "status": "ok",
     "timestamp": 1613168987500,
     "user_tz": 300,
     "elapsed": 15976,
     "user": {
      "displayName": "sisyphus midas",
      "photoUrl": "",
      "userId": "13431807809642753002"
     }
    },
    "outputId": "591d1f6b-ab20-4021-aa06-3cfef2daf887"
   },
   "source": [
    "import qmc.tf.layers as layers\n",
    "import qmc.tf.models as models\n",
    "\n"
   ],
   "execution_count": 3,
   "outputs": []
  },
  {
   "cell_type": "code",
   "metadata": {
    "id": "3gmovb6m0FFl"
   },
   "source": [
    "from sklearn.metrics import accuracy_score\n",
    "from sklearn.preprocessing import MinMaxScaler\n",
    "import tensorflow as tf"
   ],
   "execution_count": 4,
   "outputs": []
  },
  {
   "cell_type": "code",
   "metadata": {
    "id": "ri9fmngn_GPA"
   },
   "source": [
    "import sklearn\n",
    "import numpy as np # linear algebra\n",
    "import pandas as pd # data processing, CSV file I/O (e.g. pd.read_csv)\n",
    "import keras\n",
    "from keras.wrappers.scikit_learn import KerasClassifier\n",
    "from sklearn.model_selection import RandomizedSearchCV, KFold"
   ],
   "execution_count": 5,
   "outputs": []
  },
  {
   "cell_type": "code",
   "metadata": {
    "id": "DZbvtfnXQD9Y"
   },
   "source": [
    "# from functions.keras_wrapper_qmc import KerasClassifier\n",
    "\n",
    "# from sklearn.model_selection import RandomizedSearchCV, KFold\n",
    "# from sklearn.metrics import make_scorer"
   ],
   "execution_count": 6,
   "outputs": []
  },
  {
   "cell_type": "code",
   "execution_count": 7,
   "outputs": [],
   "source": [
    "sys.path.append('scripts/')"
   ],
   "metadata": {
    "collapsed": false,
    "pycharm": {
     "name": "#%%\n"
    }
   }
  },
  {
   "cell_type": "code",
   "metadata": {
    "id": "vbwEQAAITCkp"
   },
   "source": [
    "from load_usps import load_usps"
   ],
   "execution_count": 8,
   "outputs": []
  },
  {
   "cell_type": "code",
   "execution_count": 9,
   "outputs": [
    {
     "name": "stdout",
     "output_type": "stream",
     "text": [
      "['/media/joag/Proyectos/Doctorado/2021_01_learning_with_density_matrices/notebooks/usps', '/media/joag/Proyectos/Doctorado/2021_01_learning_with_density_matrices', '/usr/lib/python39.zip', '/usr/lib/python3.9', '/usr/lib/python3.9/lib-dynload', '', '/home/joag/.cache/pypoetry/virtualenvs/2021-01-learning-with-density-matrices-_ih_4jaw-py3.9/lib/python3.9/site-packages', '/home/joag/.cache/pypoetry/virtualenvs/2021-01-learning-with-density-matrices-_ih_4jaw-py3.9/lib/python3.9/site-packages/IPython/extensions', '/home/joag/.ipython', 'submodules/qmc/', 'data/', 'scripts/']\n"
     ]
    }
   ],
   "source": [
    "print(sys.path)"
   ],
   "metadata": {
    "collapsed": false,
    "pycharm": {
     "name": "#%%\n"
    }
   }
  },
  {
   "cell_type": "code",
   "metadata": {
    "id": "FbvKAN7IyuGq",
    "colab": {
     "base_uri": "https://localhost:8080/"
    },
    "executionInfo": {
     "status": "ok",
     "timestamp": 1613169018839,
     "user_tz": 300,
     "elapsed": 456,
     "user": {
      "displayName": "sisyphus midas",
      "photoUrl": "",
      "userId": "13431807809642753002"
     }
    },
    "outputId": "f47a6541-41fa-447a-9f93-9a4297d9d362"
   },
   "source": [
    "X_train, y_train, X_test, y_test = load_usps(\"data/usps/usps.h5\")\n",
    "\n",
    "print(\"shape X_train : \", X_train.shape)\n",
    "print(\"shape y_train : \", y_train.shape)\n",
    "print(\"shape X_test : \", X_test.shape)\n",
    "print(\"shape y_test : \", y_test.shape)"
   ],
   "execution_count": 18,
   "outputs": [
    {
     "name": "stdout",
     "output_type": "stream",
     "text": [
      "shape X_train :  (7291, 256)\n",
      "shape y_train :  (7291,)\n",
      "shape X_test :  (2007, 256)\n",
      "shape y_test :  (2007,)\n"
     ]
    }
   ]
  },
  {
   "cell_type": "code",
   "metadata": {
    "id": "CCp5RUItvNfu"
   },
   "source": [
    "from sklearn.model_selection import train_test_split\n",
    "\n",
    "X_train, X_val, y_train, y_val = train_test_split(X_train, y_train, test_size=0.2, random_state=42, stratify=y_train)"
   ],
   "execution_count": 19,
   "outputs": []
  },
  {
   "cell_type": "code",
   "metadata": {
    "id": "q5sHceZTvA4W"
   },
   "source": [
    "from min_max_scaler import min_max_scaler\n",
    "X_train, X_val, X_test = min_max_scaler(X_train, X_val, X_test)"
   ],
   "execution_count": 20,
   "outputs": []
  },
  {
   "cell_type": "code",
   "metadata": {
    "id": "sbBAEyWtvCQs"
   },
   "source": [
    "gammas = [2**i for i in range(-10,10)]"
   ],
   "execution_count": 21,
   "outputs": []
  },
  {
   "cell_type": "code",
   "metadata": {
    "id": "-epxcspVvDO-",
    "colab": {
     "base_uri": "https://localhost:8080/"
    },
    "executionInfo": {
     "status": "ok",
     "timestamp": 1613169024070,
     "user_tz": 300,
     "elapsed": 268,
     "user": {
      "displayName": "sisyphus midas",
      "photoUrl": "",
      "userId": "13431807809642753002"
     }
    },
    "outputId": "ffcd26bc-73f7-4501-b09f-a40bccf4e144"
   },
   "source": [
    "print(X_train.shape)\n",
    "print(y_train.shape)\n",
    "print(X_val.shape)\n",
    "print(y_val.shape)\n",
    "print(X_test.shape)\n",
    "print(y_test.shape)"
   ],
   "execution_count": 22,
   "outputs": [
    {
     "name": "stdout",
     "output_type": "stream",
     "text": [
      "(5832, 256)\n",
      "(5832,)\n",
      "(1459, 256)\n",
      "(1459,)\n",
      "(2007, 256)\n",
      "(2007,)\n"
     ]
    }
   ]
  },
  {
   "cell_type": "code",
   "metadata": {
    "colab": {
     "base_uri": "https://localhost:8080/"
    },
    "id": "xC2A4DDR2ke2",
    "executionInfo": {
     "status": "ok",
     "timestamp": 1613169028113,
     "user_tz": 300,
     "elapsed": 3953,
     "user": {
      "displayName": "sisyphus midas",
      "photoUrl": "",
      "userId": "13431807809642753002"
     }
    },
    "outputId": "bc4e23b0-e98a-4940-863c-edaf52d251bf"
   },
   "source": [
    "from sklearn.kernel_approximation import RBFSampler\n",
    "rbf_feature = RBFSampler(gamma=2**-5, n_components = 1000)\n",
    "X_train_features = rbf_feature.fit_transform(X_train)\n",
    "X_test_features = rbf_feature.transform(X_test)\n",
    "\n",
    "from sklearn.svm import LinearSVC\n",
    "\n",
    "model_lsvc = LinearSVC(C=2**1,tol=1e-05)\n",
    "model_lsvc.fit(X_train_features, y_train)\n",
    "print(model_lsvc.score(X_test_features, y_test))"
   ],
   "execution_count": null,
   "outputs": []
  },
  {
   "cell_type": "code",
   "metadata": {
    "id": "WJhIK0PPs0ZC"
   },
   "source": [
    "input_dim = X_train.shape[1]\n",
    "component_dim = 1000\n",
    "num_classes = np.unique(y_train).shape[0]\n",
    "gamma = 2**-5\n",
    "random_state=0\n",
    "num_eig=0\n",
    "batch_size=8\n",
    "epochs = 10"
   ],
   "execution_count": null,
   "outputs": []
  },
  {
   "cell_type": "code",
   "metadata": {
    "id": "8lkO0ZHm7mGQ"
   },
   "source": [
    "def create_model(input_dim, num_classes, component_dim=100, gamma=1, lr=0.01, decay=0.,\n",
    "                  random_state=None, eig_percentage=0, initialize_with_rff=False,\n",
    "                  type_of_rff=\"rff\", fix_rff=False):\n",
    "    '''This is a model generating function so that we can search over neural net\n",
    "    parameters and architecture'''\n",
    "\n",
    "    num_eig = round(eig_percentage * component_dim)\n",
    "\n",
    "    opt = keras.optimizers.Adam(lr=lr, beta_1=0.9, beta_2=0.999, decay=decay)\n",
    "\n",
    "    if type_of_rff == 'rff':\n",
    "        fm_x = layers.QFeatureMapRFF(input_dim, dim=component_dim, gamma=gamma, random_state=random_state)\n",
    "    else:\n",
    "        fm_x = layers.QFeatureMapORF(input_dim, dim=component_dim, gamma=gamma, random_state=random_state)\n",
    "\n",
    "    if initialize_with_rff:\n",
    "        qmkdc = models.QMKDClassifier(fm_x=fm_x, dim_x=component_dim, num_classes=num_classes)\n",
    "        qmkdc.compile()\n",
    "        qmkdc.fit(X_train, y_train, epochs=1, batch_size=batch_size, verbose=0)\n",
    "\n",
    "    qmkdc1 = models.QMKDClassifierSGD(input_dim=input_dim, dim_x=component_dim, num_eig=num_eig,\n",
    "                                      num_classes=num_classes, gamma=gamma, random_state=random_state, fm_x=fm_x)\n",
    "\n",
    "    if fix_rff:\n",
    "        qmkdc1.layers[0].trainable = False\n",
    "\n",
    "    qmkdc1.compile(loss=tf.keras.losses.CategoricalCrossentropy(), optimizer=opt, metrics=['accuracy'])\n",
    "\n",
    "    if initialize_with_rff:\n",
    "        qmkdc1.set_rhos(qmkdc.get_rhos())\n",
    "\n",
    "    # qmkdc1.fit(X_train, y_train_bin, epochs=epochs, batch_size=batch_size)\n",
    "\n",
    "    return qmkdc1"
   ],
   "execution_count": null,
   "outputs": []
  },
  {
   "cell_type": "code",
   "metadata": {
    "id": "6aAqByT7EqwD"
   },
   "source": [
    "%load_ext tensorboard\n",
    "%tensorboard --logdir \"/gdrive/My Drive/logs/\""
   ],
   "execution_count": null,
   "outputs": []
  },
  {
   "cell_type": "code",
   "metadata": {
    "id": "iA1l5hucdWnb",
    "colab": {
     "base_uri": "https://localhost:8080/"
    },
    "outputId": "8b42e155-031c-409c-e49b-51fe271db0b4"
   },
   "source": [
    "# Creación del modelo sin random search. Sirve para verificar que el algoritmo este entrenando bien.\n",
    "import datetime, os\n",
    "logdir = os.path.join(\"/gdrive/My Drive/logs\", \"usps-\" + datetime.datetime.now().strftime(\"%Y%m%d-%H%M%S\"))\n",
    "tensorboard_callback = tf.keras.callbacks.TensorBoard(logdir, histogram_freq=1)\n",
    "\n",
    "model_mnist = create_model(input_dim, num_classes, component_dim=1000, gamma=2**-6, lr=1e-06, decay=0.,\n",
    "                  random_state=None, eig_percentage=0.1, initialize_with_rff=True,\n",
    "                  type_of_rff=\"rff\", fix_rff=False)\n",
    "\n",
    "y_train_bin = tf.reshape(tf.keras.backend.one_hot(y_train, num_classes), (-1, num_classes))\n",
    "y_test_bin = tf.reshape(tf.keras.backend.one_hot(y_test, num_classes), (-1, num_classes))\n",
    "model_mnist.fit(X_train, y_train_bin.numpy(), epochs=12000, batch_size=32, validation_data=(X_test, y_test_bin.numpy()), \n",
    "            callbacks=[tensorboard_callback])"
   ],
   "execution_count": null,
   "outputs": []
  },
  {
   "cell_type": "code",
   "metadata": {
    "id": "CO-lHE9-mK9i",
    "colab": {
     "base_uri": "https://localhost:8080/"
    },
    "executionInfo": {
     "status": "ok",
     "timestamp": 1606083504277,
     "user_tz": 300,
     "elapsed": 1703,
     "user": {
      "displayName": "Joseph Alejandro Gallego Mejia",
      "photoUrl": "https://lh3.googleusercontent.com/a-/AOh14GiRHNpVI1SA3eB-WTWWN6LPuOQg9GlITBmVJTaXloc=s64",
      "userId": "11469130437763358793"
     }
    },
    "outputId": "7d193189-b405-4281-ac7d-2f602e068146"
   },
   "source": [
    "y_test_bin = tf.reshape(tf.keras.backend.one_hot(y_test, num_classes), (-1, num_classes))\n",
    "out = model_mnist.predict(X_test)\n",
    "accuracy_score(y_test, out.argmax(axis=1))"
   ],
   "execution_count": null,
   "outputs": []
  },
  {
   "cell_type": "code",
   "metadata": {
    "id": "el95YvDq7xm_"
   },
   "source": [
    "model = KerasClassifier(build_fn=create_model, epochs=50, batch_size=16, verbose=1)"
   ],
   "execution_count": null,
   "outputs": []
  },
  {
   "cell_type": "code",
   "metadata": {
    "colab": {
     "base_uri": "https://localhost:8080/"
    },
    "id": "4UPoG_17pLhW",
    "executionInfo": {
     "status": "ok",
     "timestamp": 1606083365928,
     "user_tz": 300,
     "elapsed": 297,
     "user": {
      "displayName": "Joseph Alejandro Gallego Mejia",
      "photoUrl": "https://lh3.googleusercontent.com/a-/AOh14GiRHNpVI1SA3eB-WTWWN6LPuOQg9GlITBmVJTaXloc=s64",
      "userId": "11469130437763358793"
     }
    },
    "outputId": "8c09a56b-82ab-49c5-f5c5-c25c8c44360d"
   },
   "source": [
    "num_classes"
   ],
   "execution_count": null,
   "outputs": []
  },
  {
   "cell_type": "code",
   "metadata": {
    "colab": {
     "base_uri": "https://localhost:8080/"
    },
    "id": "JOwKE_ARyc9Q",
    "executionInfo": {
     "status": "ok",
     "timestamp": 1606083366868,
     "user_tz": 300,
     "elapsed": 454,
     "user": {
      "displayName": "Joseph Alejandro Gallego Mejia",
      "photoUrl": "https://lh3.googleusercontent.com/a-/AOh14GiRHNpVI1SA3eB-WTWWN6LPuOQg9GlITBmVJTaXloc=s64",
      "userId": "11469130437763358793"
     }
    },
    "outputId": "b933e3b7-3111-46f5-dae8-839cd746baf6"
   },
   "source": [
    "2**30"
   ],
   "execution_count": null,
   "outputs": []
  },
  {
   "cell_type": "code",
   "metadata": {
    "id": "6YtfnhVn70Oz"
   },
   "source": [
    "# component dimension\n",
    "from scipy.stats import randint\n",
    "#components_dimensions = randint(20,1500)\n",
    "components_dimensions = [1000]\n",
    "\n",
    "# gamma\n",
    "#gammas = [2 ** i for i in range(-25, 25)]\n",
    "gammas = [2 ** i for i in range(4, 6)]\n",
    "\n",
    "# number of eigen values\n",
    "eig_values = [1 / 10, 25 / 100, 50 / 100, 1]\n",
    "\n",
    "# initialize with rff\n",
    "#initialize_with_rff = [True, False]\n",
    "initialize_with_rff = [True]\n",
    "\n",
    "# type_of_rff_components\n",
    "type_of_rff = ['rff', 'orf']\n",
    "\n",
    "# fix_rff\n",
    "fix_rff = [True]\n",
    "\n",
    "# learning algorithm parameters\n",
    "lr = [1e-2, 1e-3, 1e-4, 1e-5, 1e-6, 1e-7]\n",
    "decay = [1e-6, 1e-9, 0]\n",
    "\n",
    "# dictionary summary\n",
    "param_grid = dict(input_dim=[input_dim], num_classes=[num_classes], component_dim=components_dimensions, gamma=gammas,\n",
    "                  lr=lr, decay=decay,\n",
    "                  random_state=[None], eig_percentage=eig_values, initialize_with_rff=initialize_with_rff,\n",
    "                  type_of_rff=type_of_rff, fix_rff=fix_rff\n",
    "                  )"
   ],
   "execution_count": null,
   "outputs": []
  },
  {
   "cell_type": "code",
   "metadata": {
    "id": "qtgVrnlQ8HM_"
   },
   "source": [
    "grid = RandomizedSearchCV(estimator=model, cv=KFold(3), param_distributions=param_grid,\n",
    "                              verbose=20, n_iter=1, n_jobs=1)"
   ],
   "execution_count": null,
   "outputs": []
  },
  {
   "cell_type": "code",
   "metadata": {
    "id": "7bcv-TfgL3tU"
   },
   "source": [
    "# grid_result = grid.fit(X_train, y_train)\n",
    "y_train_bin = tf.reshape(tf.keras.backend.one_hot(y_train, num_classes), (-1, num_classes)).numpy()"
   ],
   "execution_count": null,
   "outputs": []
  },
  {
   "cell_type": "code",
   "metadata": {
    "id": "UI63v1ne8VFi"
   },
   "source": [
    "cv_results_df = None\n",
    "\n",
    "for i in range(25):\n",
    "  grid_result = grid.fit(X_train, y_train_bin)\n",
    "\n",
    "  if cv_results_df is None:\n",
    "    cv_results_df = pd.DataFrame(grid_result.cv_results_)\n",
    "  else:\n",
    "    cv_results_df = pd.concat([cv_results_df, pd.DataFrame(grid_result.cv_results_)])\n",
    "\n",
    "  cv_results_df.to_csv('qmkdc letters random search.csv')"
   ],
   "execution_count": null,
   "outputs": []
  }
 ]
}